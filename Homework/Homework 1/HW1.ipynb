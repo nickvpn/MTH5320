{
 "cells": [
  {
   "cell_type": "markdown",
   "id": "8ed48285-6029-4cde-a5e3-b54d1cb3da14",
   "metadata": {},
   "source": [
    "# HW1 Nicholas Welsh\n",
    "## MTH 5320 Deep Learning\n"
   ]
  },
  {
   "cell_type": "markdown",
   "id": "6a1e3ad4-43df-4d53-8b25-ce9730c65901",
   "metadata": {
    "jp-MarkdownHeadingCollapsed": true
   },
   "source": [
    "### 1A. Naïve Matrix Multiplication - 5 pts"
   ]
  },
  {
   "cell_type": "markdown",
   "id": "d5db8351-1015-41c1-9173-9f0283f6f284",
   "metadata": {},
   "source": []
  },
  {
   "cell_type": "code",
   "execution_count": 1,
   "id": "fed6dc47-3e67-4c79-9357-9d18263ed8eb",
   "metadata": {},
   "outputs": [],
   "source": [
    "import numpy as np\n",
    "\n",
    "matrix = np.array([[1,2,3],\n",
    "                   [4,5,6],\n",
    "                   [7,8,9]])\n",
    "matrix2 = np.array([[2,3],\n",
    "                    [9,3],\n",
    "                    [8,3]])\n",
    "\n",
    "def MatrixMultiplication(A, B):\n",
    "    # determine if column of first matrix is equal to row of second matrix\n",
    "    if(A.shape[1] == B.shape[0]):\n",
    "        # make final array's shape equal to the rows of the first matrix and columns of the second matrix\n",
    "        finalArr = np.zeros((A.shape[0],B.shape[1]), dtype=int)\n",
    "        # get the rows of the first matrix\n",
    "        for i in range(A.shape[0]):\n",
    "            # get the columns of the first matrix\n",
    "            for j in range(A.shape[1]):\n",
    "                # get the columns of the second matrix\n",
    "                for k in range(B.shape[1]):\n",
    "                    # for each column of final matrix, add the product of both matricies\n",
    "                    finalArr[i][k] += (A[i][j] * B[j][k])\n",
    "\n",
    "        return finalArr\n",
    "    else:\n",
    "        print(\"wrong\")\n",
    "        return\n",
    "\n",
    "    "
   ]
  },
  {
   "cell_type": "code",
   "execution_count": 2,
   "id": "eeb8bfe0-20c5-4988-ae36-f76c8eff3adb",
   "metadata": {},
   "outputs": [
    {
     "name": "stdout",
     "output_type": "stream",
     "text": [
      "Iteration 1: 0.0\n",
      "Iteration 2: 0.0\n",
      "Iteration 3: 0.0\n",
      "Iteration 4: 0.0\n",
      "Iteration 5: 0.0\n",
      "Iteration 6: 0.0\n",
      "Iteration 7: 0.0\n",
      "Iteration 8: 0.0\n",
      "Iteration 9: 0.0\n",
      "Iteration 10: 0.0\n"
     ]
    }
   ],
   "source": [
    "# Finding the relative Frobenius norm error averaged over 10 random matrix pairs\n",
    "rng = np.random.default_rng()\n",
    "\n",
    "for i in range(10):\n",
    "    randomMatrix1 = rng.integers(low=1, high=100, size=(2,3))\n",
    "    randomMatrix2 = rng.integers(low=1, high=100, size=(3,2))\n",
    "    C_loops = MatrixMultiplication(randomMatrix1, randomMatrix2)\n",
    "    C_numpy = randomMatrix1 @ randomMatrix2\n",
    "    num = np.linalg.norm((C_loops - C_numpy), ord='fro')\n",
    "    denom = np.linalg.norm(C_numpy, ord='fro')\n",
    "    print(f'Iteration {i+1}: {num/denom}')\n",
    "    "
   ]
  },
  {
   "cell_type": "code",
   "execution_count": 3,
   "id": "5e6b742c-ff7b-44bf-a358-b3e86057bc6f",
   "metadata": {},
   "outputs": [
    {
     "name": "stdout",
     "output_type": "stream",
     "text": [
      "Average loops time: 12.516194 seconds\n",
      "Average NumPy time: 0.014013 seconds\n"
     ]
    }
   ],
   "source": [
    "# Finding the relative Frobenius norm error averaged over 10 random matrix pairs\n",
    "import time\n",
    "\n",
    "rng = np.random.default_rng()\n",
    "\n",
    "A = rng.integers(low=1, high=100, size=(200, 200))\n",
    "B = rng.integers(low=1, high=100, size=(200, 200))\n",
    "\n",
    "repeats = 10\n",
    "loop_times = []\n",
    "numpy_times = []\n",
    "\n",
    "for _ in range(repeats):\n",
    "    start = time.perf_counter()\n",
    "    MatrixMultiplication(A, B)\n",
    "    loop_times.append(time.perf_counter() - start)\n",
    "\n",
    "    start = time.perf_counter()\n",
    "    A @ B\n",
    "    numpy_times.append(time.perf_counter() - start)\n",
    "\n",
    "# compute averages manually\n",
    "avg_loop = sum(loop_times) / repeats\n",
    "avg_numpy = sum(numpy_times) / repeats\n",
    "\n",
    "print(f\"Average loops time: {avg_loop:.6f} seconds\")\n",
    "print(f\"Average NumPy time: {avg_numpy:.6f} seconds\")\n",
    "    "
   ]
  },
  {
   "cell_type": "markdown",
   "id": "9d330bf7-3654-4fa0-9999-8baeffe2e501",
   "metadata": {},
   "source": [
    "# Reasoning for NumPy's speed\n",
    "From research, it seems that NumPy uses a highly optimized algorithm that is different to our naïve applications. \\\n",
    "Runtime complexity of the naïve algorithm is O(n^3), while NumPy uses a custom algorithm dubbed \"BLAS GEMM (General Matrix Multiply)\". This is still a O(n^3) algorithm but runs slightly faster than our approach because of optimizations made inside the algorithm."
   ]
  },
  {
   "cell_type": "markdown",
   "id": "49ff005e-53cb-4676-b5e2-94b9705c1b91",
   "metadata": {},
   "source": [
    "### 1B. Train / Val / Test Split - 5 pts"
   ]
  },
  {
   "cell_type": "code",
   "execution_count": 4,
   "id": "a771421c-301d-4f79-8270-24831220b426",
   "metadata": {},
   "outputs": [],
   "source": [
    "def train_val_test_split(X, y, ratios=(0.7,0.15,0.15), seed=5320):\n",
    "    # Validates inputs and catched ill-formed inputs\n",
    "    if (X.shape[0] != y.shape[0]):\n",
    "        print(\"WRONG\")\n",
    "        return\n",
    "        \n",
    "    # shuffle indices reproducibly\n",
    "    n = len(X)\n",
    "    np.random.seed(seed)\n",
    "    indices = np.arange(n)\n",
    "    np.random.shuffle(indices)\n",
    "    \n",
    "\n",
    "    # preserving X/y alignment by telling how many samples go into each split\n",
    "    n_test = int(n * ratios[2])\n",
    "    n_val = int(n * ratios[1])\n",
    "    n_train = n - n_val - n_test\n",
    "\n",
    "    # indices belonging to each split\n",
    "    train_idx = indices[0 : n_train]\n",
    "    val_idx = indices[n_train : n_train + n_val]\n",
    "    test_idx = indices[n_train + n_val : ]\n",
    "\n",
    "    if (len(train_idx) + len(val_idx) + len(test_idx) == n):\n",
    "        print(\"good\")\n",
    "\n",
    "\n",
    "    # Splits without overlap\n",
    "    Xtrain = X[train_idx]\n",
    "    ytrain = y[train_idx]\n",
    "    Xval = X[val_idx]\n",
    "    yval = y[val_idx]\n",
    "    Xtest = X[test_idx]\n",
    "    ytest = y[test_idx]\n",
    "    \n",
    "    return Xtrain, ytrain, Xval, yval, Xtest, ytest"
   ]
  },
  {
   "cell_type": "code",
   "execution_count": 5,
   "id": "6f544cf2-20a2-4c93-bbd4-2936a19de990",
   "metadata": {},
   "outputs": [
    {
     "name": "stdout",
     "output_type": "stream",
     "text": [
      "good\n"
     ]
    }
   ],
   "source": [
    "# testing the function on MNIST dataset \n",
    "from sklearn.datasets import fetch_openml\n",
    "\n",
    "mnist = fetch_openml('mnist_784', as_frame=False)\n",
    "\n",
    "X, y = mnist['data'], mnist['target']\n",
    "\n",
    "Xtr, ytr, Xval, yval, Xte, yte = train_val_test_split(X, y, seed=0)\n"
   ]
  },
  {
   "cell_type": "code",
   "execution_count": 6,
   "id": "92908f81-1d40-48ab-a4f6-282868d3acd4",
   "metadata": {},
   "outputs": [
    {
     "data": {
      "image/png": "[encoded data removed]",
      "text/plain": [
       "<Figure size 500x200 with 5 Axes>"
      ]
     },
     "metadata": {},
     "output_type": "display_data"
    },
    {
     "data": {
      "image/png": "[encoded data removed]",
      "text/plain": [
       "<Figure size 500x200 with 5 Axes>"
      ]
     },
     "metadata": {},
     "output_type": "display_data"
    },
    {
     "data": {
      "image/png": "[encoded data removed]",
      "text/plain": [
       "<Figure size 500x200 with 5 Axes>"
      ]
     },
     "metadata": {},
     "output_type": "display_data"
    }
   ],
   "source": [
    "# plotting 5 random images from each X subset with labels\n",
    "import matplotlib.pyplot as plt\n",
    "\n",
    "def showImg(X, y, title, seed=5320):\n",
    "    rng = np.random.default_rng(seed)\n",
    "    idx = rng.choice(len(X), 5, replace=False)\n",
    "    fig, axes = plt.subplots(1, 5, figsize=(5, 2))\n",
    "    for ax, i in zip(axes, idx):\n",
    "        ax.imshow(X[i].reshape(28,28))\n",
    "        ax.set_title(str(y[i]))\n",
    "        ax.axis(\"off\")\n",
    "    fig.suptitle(title); plt.show()\n",
    "\n",
    "showImg(Xtr, ytr, \"train\")\n",
    "showImg(Xval, yval, \"Val\")\n",
    "showImg(Xte, yte, \"test\")\n"
   ]
  },
  {
   "cell_type": "markdown",
   "id": "0f5f2160-3448-4807-9dc9-cc969b5870d6",
   "metadata": {},
   "source": [
    "### 1C. Implement a Mini Standardizer - 5 pts\n",
    "\n",
    "To handle with zero-variance, one of the methods I researched is implementing a small epsilon to make sure the variance is never zero (self.scale is never 0)\n",
    "-new: if variance < 1.0 then set it equal to 1.0"
   ]
  },
  {
   "cell_type": "code",
   "execution_count": 26,
   "id": "03d1b440-eaf6-48ad-aab9-1943430b2e49",
   "metadata": {},
   "outputs": [],
   "source": [
    "class StandardScaler:\n",
    "    def __init__(self, with_mean=True, with_std=True):\n",
    "        self.with_mean = bool(with_mean)\n",
    "        self.with_std = bool(with_std)\n",
    "        \n",
    "    def fit(self, X):\n",
    "        # set self.mean, self.scale vectors\n",
    "        # more code here?\n",
    "        self.mean = X.mean(axis=0)\n",
    "        self.scale = X.std(axis=0)\n",
    "        return self\n",
    "        \n",
    "\n",
    "    def transform(self, X):\n",
    "        # handle zero-variance features safely\n",
    "        # more code here?\n",
    "        eps = 1e-12\n",
    "\n",
    "        if self.with_mean:\n",
    "            X_t = X - self.mean\n",
    "        if self.with_std:\n",
    "            safe_scale = np.maximum(self.scale, 1.0)\n",
    "            X_t /= safe_scale\n",
    "    \n",
    "        return X_t\n",
    "\n",
    "    def fit_transform(self, X):\n",
    "        # more code here?\n",
    "        return self.fit(X).transform(X)"
   ]
  },
  {
   "cell_type": "code",
   "execution_count": 27,
   "id": "772f1633-7f71-4534-8101-c57c64e9a1fb",
   "metadata": {},
   "outputs": [
    {
     "name": "stdout",
     "output_type": "stream",
     "text": [
      "good\n",
      "good\n",
      "MNIST train:\n",
      "  max|mean|=9.89e-15,  std range=(0, 1)\n",
      "\n",
      "MNIST val:\n",
      "  max|mean|=0.0323,  std range=(0, 2.17)\n",
      "\n",
      "MNIST test:\n",
      "  max|mean|=0.0432,  std range=(0, 2.85)\n",
      "\n",
      "Cancer train:\n",
      "  max|mean|=4.97e-15,  std range=(0.00276, 1)\n",
      "\n",
      "Cancer val:\n",
      "  max|mean|=0.157,  std range=(0.00279, 1.24)\n",
      "\n",
      "Cancer test:\n",
      "  max|mean|=0.178,  std range=(0.0018, 1.59)\n",
      "\n"
     ]
    }
   ],
   "source": [
    "# test with wisconsin breast cancer and MNIST datasets\n",
    "from sklearn.datasets import load_breast_cancer\n",
    "\n",
    "# call mnist and fit data/target\n",
    "mnist = fetch_openml('mnist_784', as_frame=False)\n",
    "X_mnist, y_mnist = mnist['data'], mnist['target']\n",
    "# set target as integer\n",
    "y_mnist = y_mnist.astype(int)\n",
    "\n",
    "# call breast cancer dataset and fit data/target\n",
    "cancer = load_breast_cancer()\n",
    "X_cancer, y_cancer = cancer['data'], cancer['target']\n",
    "\n",
    "\n",
    "# set up train/val/test split for mnist and cancer datasets\n",
    "\n",
    "Xtr_mnist, ytr_mnist, Xval_mnist, yval_mnist, Xte_mnist, yte_mnist = train_val_test_split(X_mnist, y_mnist, seed=5320)\n",
    "\n",
    "Xtr_cancer, ytr_cancer, Xval_cancer, yval_cancer, Xte_cancer, yte_cancer = train_val_test_split(X_cancer, y_cancer, seed=5320)\n",
    "\n",
    "# feed mnist and cancer datasets through standard scaler\n",
    "\n",
    "sc_mnist = StandardScaler()\n",
    "sc_mnist.fit(Xtr_mnist)\n",
    "Xtr_mnist_std  = sc_mnist.transform(Xtr_mnist)\n",
    "Xval_mnist_std = sc_mnist.transform(Xval_mnist)\n",
    "Xte_mnist_std  = sc_mnist.transform(Xte_mnist)\n",
    "\n",
    "sc_cancer = StandardScaler()\n",
    "sc_cancer.fit(Xtr_cancer)\n",
    "Xtr_cancer_std  = sc_cancer.transform(Xtr_cancer)\n",
    "Xval_cancer_std = sc_cancer.transform(Xval_cancer)\n",
    "Xte_cancer_std  = sc_cancer.transform(Xte_cancer)\n",
    "\n",
    "# print the column means and standard deviations\n",
    "\n",
    "def report_stats(name, X, full=False):\n",
    "    mu = X.mean(axis=0)\n",
    "    sd = X.std(axis=0, ddof=0)\n",
    "    print(f\"{name}:\")\n",
    "    if full:\n",
    "        print(\"  means:\", np.array2string(mu, precision=4, suppress_small=True))\n",
    "        print(\"  stds :\", np.array2string(sd, precision=4, suppress_small=True))\n",
    "    print(f\"  max|mean|={np.abs(mu).max():.3g},  std range=({sd.min():.3g}, {sd.max():.3g})\\n\")\n",
    "\n",
    "\n",
    "report_stats(\"MNIST train\", Xtr_mnist_std)\n",
    "report_stats(\"MNIST val\",   Xval_mnist_std)\n",
    "report_stats(\"MNIST test\",  Xte_mnist_std)\n",
    "\n",
    "report_stats(\"Cancer train\", Xtr_cancer_std)\n",
    "report_stats(\"Cancer val\",   Xval_cancer_std)\n",
    "report_stats(\"Cancer test\",  Xte_cancer_std)\n"
   ]
  },
  {
   "cell_type": "markdown",
   "id": "41fa4039-516c-44d1-8acd-b45ff5803635",
   "metadata": {},
   "source": [
    "## Problem 2 - Matrix Calculus & Optimization\n",
    "### 2A. Ridge (weight decay) Regression, Closed Form - 20 pts"
   ]
  },
  {
   "cell_type": "markdown",
   "id": "e2744e21-7d51-4d44-aa34-5c772e265336",
   "metadata": {},
   "source": [
    "note: worked out solution on pdf\n",
    "\n",
    "**Recall:** Ridge Regression formula: $$ L_\\lambda(w)\n",
    "= \\frac{1}{2n}\\,\\|Xw - y\\|_2^2 \\;+\\; \\frac{\\lambda}{2}\\,\\|w\\|_2^2, $$\n",
    "In order to isolate the bias, we can rewrite the formula as:\n",
    "\n",
    "$$\n",
    "\\implies \\frac{1}{2n}+||Xw - y||^2_{2} +\\frac{\\lambda}{2}w^T D\\space w,\n",
    "$$\n",
    "where $D = \\text{diag}(0,1,\\dots,1)$. Because $D$ is diagonal with the first column being 0, only the feature weights are penalized, the bias $w_{0}$ is not.\n",
    "\n",
    "Now, we can take the gradient of the function\n",
    "$$\n",
    "\\nabla_{w}L(w)=\\frac{1}{n}X^T(Xw-y)+\\lambda Dw\n",
    "$$\n",
    "\n",
    "using the identities:\n",
    "- $\\nabla_{w}\\frac{1}{2}||Aw-b||^2=A^T(Aw-b)$\n",
    "- $\\nabla_{w}\\frac{1}{2}w^TAw=\\frac{1}{2}(A+A^T)w$ (since $D$ is diagonal, $D^T = D$, so $D + D^T = 2D$)\n",
    "\n",
    "and set it to 0 to get the equation:\n",
    "$$\n",
    "\\left( \\frac{1}{n} X^TX+\\lambda D \\right)w=\\frac{1}{n}X^Ty\n",
    "$$\n",
    "Solve for the optimized weights $w^*$: $$\n",
    "w^* = \\left( \\frac{1}{n}X^TX+\\lambda D \\right)^{-1} \\frac{1}{n}X^Ty\n",
    "$$\n",
    "which is equivalent to:\n",
    "$$\n",
    "w^* = (X^TX+n\\lambda D)^{-1}X^Ty\n",
    "$$"
   ]
  },
  {
   "cell_type": "code",
   "execution_count": 102,
   "id": "f3a2bf46-cdd7-440e-945d-72307b494424",
   "metadata": {},
   "outputs": [],
   "source": [
    "class RidgeRegression:\n",
    "    # fill in inputs and code (initializer with hyperparameters)\n",
    "    def __init__(self, lam=1.0):\n",
    "        self.lam = float(lam)\n",
    "        self.w = None\n",
    "\n",
    "    # fill in inputs and code (compute the weights)\n",
    "    def fit(self, X, y):\n",
    "        n, d = X.shape               # p = d+1 (first col is ones)\n",
    "\n",
    "        # add bias column\n",
    "        Xb = np.hstack([np.ones((n,1)), X])\n",
    "        d = Xb.shape[1]\n",
    "        \n",
    "        D = np.eye(d)\n",
    "        D[0, 0] = 0.0                # do NOT regularize the bias\n",
    "        A = Xb.T @ Xb + ((n * self.lam) * D)   # use n*lam if your loss has 1/(2n)\n",
    "        b = Xb.T @ y\n",
    "        self.w = np.linalg.solve(A, b)     # more stable than explicit inverse\n",
    "        return self\n",
    "\n",
    "    # fill in inputs and code (returns class predictions)\n",
    "    def predict(self, X):\n",
    "        n = X.shape[0]\n",
    "        Xb = np.hstack([np.ones((n,1)), X])\n",
    "        return Xb @ self.w\n",
    "\n",
    "    # add additional functions if needed"
   ]
  },
  {
   "cell_type": "code",
   "execution_count": 103,
   "id": "de4a9c8d-47e8-4392-a4a7-6b72c611e110",
   "metadata": {},
   "outputs": [],
   "source": [
    "import pandas as pd\n",
    "\n",
    "df = pd.read_csv(\"cancer_reg.csv\")"
   ]
  },
  {
   "cell_type": "code",
   "execution_count": 104,
   "id": "fa2772db-14e3-477a-9bbe-9884c6de0c50",
   "metadata": {},
   "outputs": [
    {
     "name": "stdout",
     "output_type": "stream",
     "text": [
      "good\n",
      "=== Model 0 with lambda=1e-09 ===\n",
      "\n",
      "Train RMSE: 19.180444533512983\n",
      "Val RMSE: 19.502403472273397\n",
      "Test RMSE: 19.792876135000743\n",
      "dataset RMSE 28.301369032391065\n",
      "\n",
      "\n"
     ]
    }
   ],
   "source": [
    "X = df.drop(columns=[\"pctsomecol18_24\", \"pctemployed16_over\", \"binnedinc\", \"pctprivatecoveragealone\", \"target_deathrate\", \"geography\"]) \n",
    "y = df[\"target_deathrate\"] \n",
    "\n",
    "\n",
    "Xtrain, ytrain, Xval, yval, Xtest, ytest = train_val_test_split(\n",
    "    X.values, y.values, ratios=(0.7,0.15,0.15))\n",
    "\n",
    "\n",
    "standardize = StandardScaler() \n",
    "standardize.fit(Xtrain) \n",
    "Xtrain_std = standardize.transform(Xtrain)\n",
    "Xval_std   = standardize.transform(Xval)\n",
    "Xtest_std  = standardize.transform(Xtest)\n",
    "\n",
    "\n",
    "\n",
    "\n",
    "# print(f\"check, {X_death_std.isna().sum()}\") \n",
    "\n",
    "arr = [0.000000001]\n",
    "\n",
    "for i in range(len(arr)):\n",
    "    print(f\"=== Model {i} with lambda={model.lam} ===\\n\")\n",
    "    model = RidgeRegression(lam=arr[i]) \n",
    "    model.fit(Xtrain_std, ytrain) \n",
    "    predictions_train = model.predict(Xtrain_std)\n",
    "    predictions_val = model.predict(Xval_std)\n",
    "    predictions_test = model.predict(Xtest_std)\n",
    "\n",
    "    rmse_train = np.sqrt(np.mean((predictions_train - ytrain)**2))\n",
    "    rmse_val   = np.sqrt(np.mean((predictions_val   - yval)**2))\n",
    "    rmse_test  = np.sqrt(np.mean((predictions_test  - ytest)**2))\n",
    "    \n",
    "    print(\"Train RMSE:\", rmse_train)\n",
    "    print(\"Val RMSE:\", rmse_val)\n",
    "    print(\"Test RMSE:\", rmse_test)\n",
    "    print(\"dataset RMSE\", baseline_rmse_test )\n",
    "    print(\"\\n\")\n"
   ]
  },
  {
   "cell_type": "code",
   "execution_count": null,
   "id": "4e8e9359-4e47-403b-a50d-60441006d3bd",
   "metadata": {},
   "outputs": [],
   "source": []
  }
 ],
 "metadata": {
  "kernelspec": {
   "display_name": "Python 3 (ipykernel)",
   "language": "python",
   "name": "python3"
  },
  "language_info": {
   "codemirror_mode": {
    "name": "ipython",
    "version": 3
   },
   "file_extension": ".py",
   "mimetype": "text/x-python",
   "name": "python",
   "nbconvert_exporter": "python",
   "pygments_lexer": "ipython3",
   "version": "3.12.5"
  }
 },
 "nbformat": 4,
 "nbformat_minor": 5
}
