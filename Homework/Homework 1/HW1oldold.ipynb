{
 "cells": [
  {
   "cell_type": "markdown",
   "id": "8ed48285-6029-4cde-a5e3-b54d1cb3da14",
   "metadata": {},
   "source": [
    "# HW1 Nicholas Welsh\n",
    "## MTH 5320 Deep Learning\n",
    "    This is an inline equation: $ \\alpha + \\beta = \\gamma $."
   ]
  },
  {
   "cell_type": "markdown",
   "id": "6a1e3ad4-43df-4d53-8b25-ce9730c65901",
   "metadata": {},
   "source": [
    "### 1A. Naïve Matrix Multiplication) - 5 pts"
   ]
  },
  {
   "cell_type": "code",
   "execution_count": 103,
   "id": "fed6dc47-3e67-4c79-9357-9d18263ed8eb",
   "metadata": {},
   "outputs": [],
   "source": [
    "import numpy as np\n",
    "matrix = np.array([[1,2,3],\n",
    "                   [4,5,6],\n",
    "                   [7,8,9]])\n",
    "matrix2 = np.array([[2,3],\n",
    "                    [9,3],\n",
    "                    [8,3]])\n",
    "\n",
    "def MatrixMultiplication(A, B):\n",
    "    # determine if column of first matrix is equal to row of second matrix\n",
    "    if(A.shape[1] == B.shape[0]):\n",
    "        # make final array's shape equal to the rows of the first matrix and columns of the second matrix\n",
    "        finalArr = np.zeros((A.shape[0],B.shape[1]), dtype=int)\n",
    "        # get the rows of the first matrix\n",
    "        for i in range(A.shape[0]):\n",
    "            # get the columns of the first matrix\n",
    "            for j in range(A.shape[1]):\n",
    "                # get the columns of the second matrix\n",
    "                for k in range(B.shape[1]):\n",
    "                    # for each column of final matrix, add the product of both matricies\n",
    "                    finalArr[i][k] += (A[i][j] * B[j][k])\n",
    "\n",
    "        return finalArr\n",
    "    else:\n",
    "        print(\"wrong\")\n",
    "        return\n",
    "\n",
    "    "
   ]
  },
  {
   "cell_type": "code",
   "execution_count": 109,
   "id": "eeb8bfe0-20c5-4988-ae36-f76c8eff3adb",
   "metadata": {},
   "outputs": [
    {
     "name": "stdout",
     "output_type": "stream",
     "text": [
      "Iteration 1: 0.0\n",
      "Iteration 2: 0.0\n",
      "Iteration 3: 0.0\n",
      "Iteration 4: 0.0\n",
      "Iteration 5: 0.0\n",
      "Iteration 6: 0.0\n",
      "Iteration 7: 0.0\n",
      "Iteration 8: 0.0\n",
      "Iteration 9: 0.0\n",
      "Iteration 10: 0.0\n"
     ]
    }
   ],
   "source": [
    "# Finding the relative Frobenius norm error averaged over 10 random matrix pairs\n",
    "rng = np.random.default_rng()\n",
    "\n",
    "for i in range(10):\n",
    "    randomMatrix1 = rng.integers(low=1, high=100, size=(2,3))\n",
    "    randomMatrix2 = rng.integers(low=1, high=100, size=(3,2))\n",
    "    C_loops = MatrixMultiplication(randomMatrix1, randomMatrix2)\n",
    "    C_numpy = randomMatrix1 @ randomMatrix2\n",
    "    num = np.linalg.norm((C_loops - C_numpy), ord='fro')\n",
    "    denom = np.linalg.norm(C_numpy, ord='fro')\n",
    "    print(f'Iteration {i+1}: {num/denom}')\n",
    "    "
   ]
  },
  {
   "cell_type": "code",
   "execution_count": 110,
   "id": "5e6b742c-ff7b-44bf-a358-b3e86057bc6f",
   "metadata": {},
   "outputs": [
    {
     "name": "stdout",
     "output_type": "stream",
     "text": [
      "Average loops time: 0.000034 seconds\n",
      "Average NumPy time: 0.000006 seconds\n"
     ]
    }
   ],
   "source": [
    "# Finding the relative Frobenius norm error averaged over 10 random matrix pairs\n",
    "import time\n",
    "\n",
    "rng = np.random.default_rng()\n",
    "\n",
    "A = rng.integers(low=1, high=100, size=(2, 3))\n",
    "B = rng.integers(low=1, high=100, size=(3, 2))\n",
    "\n",
    "repeats = 10\n",
    "loop_times = []\n",
    "numpy_times = []\n",
    "\n",
    "for _ in range(repeats):\n",
    "    start = time.perf_counter()\n",
    "    MatrixMultiplication(A, B)\n",
    "    loop_times.append(time.perf_counter() - start)\n",
    "\n",
    "    start = time.perf_counter()\n",
    "    A @ B\n",
    "    numpy_times.append(time.perf_counter() - start)\n",
    "\n",
    "# compute averages manually\n",
    "avg_loop = sum(loop_times) / repeats\n",
    "avg_numpy = sum(numpy_times) / repeats\n",
    "\n",
    "print(f\"Average loops time: {avg_loop:.6f} seconds\")\n",
    "print(f\"Average NumPy time: {avg_numpy:.6f} seconds\")\n",
    "    "
   ]
  },
  {
   "cell_type": "code",
   "execution_count": null,
   "id": "2be41cfa-7319-45b2-a4b9-d0b55bf13143",
   "metadata": {},
   "outputs": [],
   "source": []
  }
 ],
 "metadata": {
  "kernelspec": {
   "display_name": "Python 3 (ipykernel)",
   "language": "python",
   "name": "python3"
  },
  "language_info": {
   "codemirror_mode": {
    "name": "ipython",
    "version": 3
   },
   "file_extension": ".py",
   "mimetype": "text/x-python",
   "name": "python",
   "nbconvert_exporter": "python",
   "pygments_lexer": "ipython3",
   "version": "3.12.5"
  }
 },
 "nbformat": 4,
 "nbformat_minor": 5
}
