{
 "cells": [
  {
   "cell_type": "code",
   "execution_count": 4,
   "id": "e1e469ca-b812-49bb-807a-829f7210d8eb",
   "metadata": {},
   "outputs": [
    {
     "data": {
      "text/plain": [
       "'NVIDIA GeForce RTX 4070 SUPER'"
      ]
     },
     "execution_count": 4,
     "metadata": {},
     "output_type": "execute_result"
    }
   ],
   "source": [
    "import torch\n",
    "torch.cuda.get_device_name(0)"
   ]
  },
  {
   "cell_type": "code",
   "execution_count": 2,
   "id": "5cd063ed-dcb5-4b01-a926-f0bd75172832",
   "metadata": {},
   "outputs": [
    {
     "name": "stdout",
     "output_type": "stream",
     "text": [
      "2.4.1\n"
     ]
    }
   ],
   "source": [
    "print(torch.__version__)"
   ]
  },
  {
   "cell_type": "code",
   "execution_count": 5,
   "id": "b9ad0219-9c73-4411-9e7b-ad37d88d65d9",
   "metadata": {},
   "outputs": [
    {
     "ename": "ModuleNotFoundError",
     "evalue": "No module named 'sklearn'",
     "output_type": "error",
     "traceback": [
      "\u001b[31m---------------------------------------------------------------------------\u001b[39m",
      "\u001b[31mModuleNotFoundError\u001b[39m                       Traceback (most recent call last)",
      "\u001b[36mCell\u001b[39m\u001b[36m \u001b[39m\u001b[32mIn[5]\u001b[39m\u001b[32m, line 2\u001b[39m\n\u001b[32m      1\u001b[39m \u001b[38;5;28;01mimport\u001b[39;00m\u001b[38;5;250m \u001b[39m\u001b[34;01mnumpy\u001b[39;00m\u001b[38;5;250m \u001b[39m\u001b[38;5;28;01mas\u001b[39;00m\u001b[38;5;250m \u001b[39m\u001b[34;01mnp\u001b[39;00m\n\u001b[32m----> \u001b[39m\u001b[32m2\u001b[39m \u001b[38;5;28;01mfrom\u001b[39;00m\u001b[38;5;250m \u001b[39m\u001b[34;01msklearn\u001b[39;00m\u001b[34;01m.\u001b[39;00m\u001b[34;01mpreprocessing\u001b[39;00m\u001b[38;5;250m \u001b[39m\u001b[38;5;28;01mimport\u001b[39;00m scale\n\u001b[32m      4\u001b[39m \u001b[38;5;28;01mclass\u001b[39;00m\u001b[38;5;250m \u001b[39m\u001b[34;01mLogisticClassifierGradient\u001b[39;00m:\n\u001b[32m      5\u001b[39m     \u001b[38;5;28;01mdef\u001b[39;00m\u001b[38;5;250m \u001b[39m\u001b[34m__init__\u001b[39m(\u001b[38;5;28mself\u001b[39m):\n",
      "\u001b[31mModuleNotFoundError\u001b[39m: No module named 'sklearn'"
     ]
    }
   ],
   "source": [
    "import numpy as np\n",
    "from sklearn.preprocessing import scale\n",
    "\n",
    "class LogisticClassifierGradient:\n",
    "    def __init__(self):\n",
    "        self.w = None\n",
    "        \n",
    "    # learn the weights of the model (fit function) alpha is learning rate\n",
    "    def fit(self, X, y, w0, alpha, h, tolerance, max_it):\n",
    "            \n",
    "        n = X.shape[0]\n",
    "        X = scale(X)\n",
    "        X = np.hstack((np.ones([n,1]), X)) # stack two matricies horiziontally\n",
    "        \n",
    "\n",
    "        L = lambda w: (self.sigmoid(X @ w) - y).T @ (self.sigmoid(X @ w) - y) # loss function (apply sigmoid function)\n",
    "\n",
    "        # learn weights\n",
    "        self.w = self.gradientDescent(L, w0, alpha, h, tolerance, max_it)\n",
    "\n",
    "    def predict(self, X): #create model, fit it, and when we run predict we want to use it to just predict\n",
    "        n = X.shape[0]\n",
    "        X = scale(X)\n",
    "        \n",
    "        X = np.hstack((np.ones([n,1]), X)) # stack two matricies horiziontally\n",
    "        return self.sigmoid(X @ self.w)\n",
    "\n",
    "    def sigmoid(self, z):\n",
    "        return 1/(1+np.exp(-z))\n",
    "        \n",
    "\n",
    "\n",
    "# run gradient descent to minimize the loss function\n",
    "    def gradientDescent(self, f, x0, alpha, h, tolerance, max_iterations):\n",
    "        # set x equal to the initial guess\n",
    "        x = x0\n",
    "\n",
    "        # take up to maxIterations number of steps\n",
    "        for counter in range(max_iterations):\n",
    "            # update the gradient\n",
    "            gradient = self.computeGradient(f, x, h)\n",
    "\n",
    "            if counter % 1000 == 0:\n",
    "                print(f\"iter {counter:5d} | loss {f(x):.6f} | grad norm {np.linalg.norm(gradient):.6f}\")\n",
    "\n",
    "            # stop if the norm of the gradient is near 0\n",
    "            if np.linalg.norm(gradient) < tolerance:\n",
    "                print('Gradient descent took', counter, 'iterations to converge')\n",
    "                print('The norm of the gradient is', np.linalg.norm(gradient))\n",
    "                \n",
    "                # return the approximate critical value x\n",
    "                return x\n",
    "\n",
    "            # if we do not converge, print a message\n",
    "            elif counter == max_iterations - 1:\n",
    "                print(\"Gradient descent failed\")\n",
    "                print('The gradient is', gradient)\n",
    "                \n",
    "                # return x, sometimes it is still pretty good\n",
    "                return x\n",
    "\n",
    "            # take a step in the opposite direction as the gradient\n",
    "            x -= alpha*gradient\n",
    "\n",
    "        return None\n",
    "\n",
    " # estimate the gradient\n",
    "    def computeGradient(self, f, x, h):\n",
    "        n = len(x)\n",
    "        gradient = np.zeros(n)\n",
    "        \n",
    "        # compute f at current point\n",
    "        fx = f(x)\n",
    "\n",
    "        # find each component of the gradient\n",
    "        for counter in range(n):\n",
    "            xUp = x.copy()\n",
    "            xUp[counter] += h\n",
    "            gradient[counter] = (f(xUp) - fx)/h\n",
    "\n",
    "        # return the gradient\n",
    "        return gradient\n",
    "\n",
    "    def standardize(self, X):\n",
    "        X_mean = X.mean(axis=0)\n",
    "        X_std = X.std(axis=0)\n",
    "        X_std[X_std == 0] = 1\n",
    "\n",
    "        X_standardized = (X - X_mean) / X_std\n",
    "\n",
    "        return X_standardized"
   ]
  },
  {
   "cell_type": "code",
   "execution_count": null,
   "id": "c260a3d6-90ac-4dc0-97eb-f6d52752ac83",
   "metadata": {},
   "outputs": [],
   "source": []
  }
 ],
 "metadata": {
  "kernelspec": {
   "display_name": "Python 3 (ipykernel)",
   "language": "python",
   "name": "python3"
  },
  "language_info": {
   "codemirror_mode": {
    "name": "ipython",
    "version": 3
   },
   "file_extension": ".py",
   "mimetype": "text/x-python",
   "name": "python",
   "nbconvert_exporter": "python",
   "pygments_lexer": "ipython3",
   "version": "3.12.3"
  }
 },
 "nbformat": 4,
 "nbformat_minor": 5
}
